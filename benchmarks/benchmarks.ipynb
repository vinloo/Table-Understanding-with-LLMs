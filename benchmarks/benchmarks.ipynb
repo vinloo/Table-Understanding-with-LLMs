{
 "cells": [
  {
   "cell_type": "code",
   "execution_count": null,
   "metadata": {},
   "outputs": [],
   "source": [
    "from datasets import load_dataset\n",
    "import pandas as pd"
   ]
  },
  {
   "cell_type": "markdown",
   "metadata": {},
   "source": [
    "## DataBench\n",
    "Paper: https://aclanthology.org/2024.lrec-main.1179.pdf\n",
    "\n",
    "Code: https://github.com/jorses/databench_eval\n",
    "\n",
    "Data: (see code below)"
   ]
  },
  {
   "cell_type": "code",
   "execution_count": null,
   "metadata": {},
   "outputs": [],
   "source": [
    "all_qa = load_dataset(\"cardiffnlp/databench\", name=\"qa\", split=\"train\")\n",
    "all_qa_df = pd.DataFrame(all_qa)\n",
    "\n",
    "all_qa_df.to_csv(\"DataBench/all_qa.csv\")\n",
    "\n",
    "datasets = set(all_qa_df['dataset'])\n",
    "\n",
    "for ds_id in datasets:\n",
    "    df = pd.read_parquet(f\"hf://datasets/cardiffnlp/databench/data/{ds_id}/all.parquet\")\n",
    "    df.to_csv(f\"DataBench/subsets/{ds_id}.csv\")"
   ]
  },
  {
   "cell_type": "markdown",
   "metadata": {},
   "source": [
    "## WikiSQL\n",
    "Paper: https://arxiv.org/pdf/1709.00103\n",
    "\n",
    "Code & Data: https://github.com/salesforce/WikiSQL"
   ]
  },
  {
   "cell_type": "markdown",
   "metadata": {},
   "source": [
    "## TableBench\n",
    "Paper: https://arxiv.org/pdf/2408.09174\n",
    "\n",
    "Code: https://github.com/TableBench/TableBench\n",
    "\n",
    "Data: (see code below)\n"
   ]
  },
  {
   "cell_type": "code",
   "execution_count": null,
   "metadata": {},
   "outputs": [],
   "source": [
    "ds_bench = load_dataset(\"Multilingual-Multimodal-NLP/TableBench\")\n",
    "df_bench = pd.DataFrame(ds_bench['test'])\n",
    "df_bench.to_csv(\"TableBench/test.csv\")\n",
    "\n",
    "ds_instruct = load_dataset(\"Multilingual-Multimodal-NLP/TableInstruct\")\n",
    "df_instruct = pd.DataFrame(ds_instruct['train'])\n",
    "df_instruct.to_csv(\"TableBench/train.csv\")"
   ]
  },
  {
   "cell_type": "markdown",
   "metadata": {},
   "source": [
    "## TabFact\n",
    "Paper: https://arxiv.org/pdf/1909.02164\n",
    "\n",
    "Code & Data: https://github.com/wenhuchen/Table-Fact-Checking"
   ]
  },
  {
   "cell_type": "markdown",
   "metadata": {},
   "source": [
    "## TabularBenchmark\n",
    "Paper: https://arxiv.org/pdf/2207.08815\n",
    "\n",
    "Code: https://github.com/LeoGrin/tabular-benchmark\n",
    "\n",
    "Data: https://huggingface.co/datasets/inria-soda/tabular-benchmark"
   ]
  }
 ],
 "metadata": {
  "kernelspec": {
   "display_name": "thesis",
   "language": "python",
   "name": "python3"
  },
  "language_info": {
   "codemirror_mode": {
    "name": "ipython",
    "version": 3
   },
   "file_extension": ".py",
   "mimetype": "text/x-python",
   "name": "python",
   "nbconvert_exporter": "python",
   "pygments_lexer": "ipython3",
   "version": "3.13.2"
  }
 },
 "nbformat": 4,
 "nbformat_minor": 2
}
